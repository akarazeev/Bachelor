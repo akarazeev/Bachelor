{
 "cells": [
  {
   "cell_type": "code",
   "execution_count": 1,
   "metadata": {},
   "outputs": [],
   "source": [
    "import pandas as pd\n",
    "import numpy as np\n",
    "import matplotlib.pyplot as plt\n",
    "%matplotlib inline"
   ]
  },
  {
   "cell_type": "code",
   "execution_count": 2,
   "metadata": {},
   "outputs": [],
   "source": [
    "from __future__ import division\n",
    "from __future__ import print_function\n",
    "\n",
    "import os\n",
    "import sys\n",
    "from time import time\n",
    "\n",
    "# temporary solution for relative imports in case pyod is not installed\n",
    "# if pyod is installed, no need to use the following line\n",
    "sys.path.append(\n",
    "    os.path.abspath(os.path.join(os.path.dirname(\"__file__\"), '..')))\n",
    "# supress warnings for clean output\n",
    "import warnings\n",
    "\n",
    "warnings.filterwarnings(\"ignore\")\n",
    "\n",
    "import numpy as np\n",
    "import pandas as pd\n",
    "from sklearn.model_selection import train_test_split\n",
    "from scipy.io import loadmat\n",
    "\n",
    "from pyod.models.abod import ABOD\n",
    "from pyod.models.cblof import CBLOF\n",
    "from pyod.models.feature_bagging import FeatureBagging\n",
    "from pyod.models.hbos import HBOS\n",
    "from pyod.models.iforest import IForest\n",
    "from pyod.models.knn import KNN\n",
    "from pyod.models.lof import LOF\n",
    "from pyod.models.mcd import MCD\n",
    "from pyod.models.ocsvm import OCSVM\n",
    "from pyod.models.pca import PCA\n",
    "\n",
    "from pyod.utils.utility import standardizer\n",
    "from pyod.utils.utility import precision_n_scores\n",
    "from sklearn.metrics import roc_auc_score"
   ]
  },
  {
   "cell_type": "code",
   "execution_count": 4,
   "metadata": {},
   "outputs": [],
   "source": [
    "# Define data file and read X and y\n",
    "mat_file_list = ['arrhythmia.mat',\n",
    "                 'cardio.mat',\n",
    "                 'ionosphere.mat',\n",
    "                 'mnist.mat',\n",
    "                 'satellite.mat']\n",
    "\n",
    "# Define nine outlier detection tools to be compared\n",
    "random_state = np.random.RandomState(42)\n",
    "\n",
    "df_columns = ['Data', '#Samples', '# Dimensions', 'Outlier Perc',\n",
    "              'ABOD', 'CBLOF', 'FB', 'HBOS', 'IForest', 'KNN', 'LOF', 'MCD',\n",
    "              'OCSVM', 'PCA']\n",
    "roc_df = pd.DataFrame(columns=df_columns)\n",
    "prn_df = pd.DataFrame(columns=df_columns)\n",
    "time_df = pd.DataFrame(columns=df_columns)\n",
    "\n",
    "\n",
    "for mat_file in mat_file_list:\n",
    "    print(\"\\n... Processing\", mat_file, '...')\n",
    "    mat = loadmat(os.path.join('datasets', mat_file))\n",
    "\n",
    "    X = mat['X']\n",
    "    y = mat['y'].ravel()\n",
    "    outliers_fraction = np.count_nonzero(y) / len(y)\n",
    "    outliers_percentage = round(outliers_fraction * 100, ndigits=4)\n",
    "\n",
    "    # construct containers for saving results\n",
    "    roc_list = [mat_file[:-4], X.shape[0], X.shape[1], outliers_percentage]\n",
    "    prn_list = [mat_file[:-4], X.shape[0], X.shape[1], outliers_percentage]\n",
    "    time_list = [mat_file[:-4], X.shape[0], X.shape[1], outliers_percentage]\n",
    "\n",
    "    # 60% data for training and 40% for testing\n",
    "    X_train, X_test, y_train, y_test = train_test_split(X, y, test_size=0.4,\n",
    "                                                        random_state=random_state)\n",
    "\n",
    "    # standardizing data for processing, mean=0, var=1\n",
    "    X_train_norm, X_test_norm = standardizer(X_train, X_test)\n",
    "\n",
    "    classifiers = {\n",
    "        'Angle-based Outlier Detector (ABOD)': ABOD(\n",
    "            contamination=outliers_fraction),\n",
    "        'Cluster-based Local Outlier Factor': CBLOF(contamination=outliers_fraction, check_estimator=False,\n",
    "                                                    random_state=random_state),\n",
    "        'Feature Bagging': FeatureBagging(contamination=outliers_fraction,\n",
    "                                          random_state=random_state),\n",
    "        'Histogram-base Outlier Detection (HBOS)': HBOS(\n",
    "            contamination=outliers_fraction),\n",
    "        'Isolation Forest': IForest(contamination=outliers_fraction,\n",
    "                                    random_state=random_state),\n",
    "        'K Nearest Neighbors (KNN)': KNN(contamination=outliers_fraction),\n",
    "        'Local Outlier Factor (LOF)': LOF(\n",
    "            contamination=outliers_fraction),\n",
    "        'Minimum Covariance Determinant (MCD)': MCD(\n",
    "            contamination=outliers_fraction, random_state=random_state),\n",
    "        'One-class SVM (OCSVM)': OCSVM(contamination=outliers_fraction),\n",
    "        'Principal Component Analysis (PCA)': PCA(\n",
    "            contamination=outliers_fraction, random_state=random_state),\n",
    "    }\n",
    "\n",
    "    for clf_name, clf in classifiers.items():\n",
    "        t0 = time()\n",
    "        clf.fit(X_train_norm)\n",
    "        test_scores = clf.decision_function(X_test_norm)\n",
    "        t1 = time()\n",
    "        duration = round(t1 - t0, ndigits=4)\n",
    "        time_list.append(duration)\n",
    "\n",
    "        roc = round(roc_auc_score(y_test, test_scores), ndigits=4)\n",
    "        prn = round(precision_n_scores(y_test, test_scores), ndigits=4)\n",
    "\n",
    "        print('{clf_name} ROC:{roc}, precision @ rank n:{prn}, '\n",
    "              'execution time: {duration}s'.format(\n",
    "            clf_name=clf_name, roc=roc, prn=prn, duration=duration))\n",
    "\n",
    "        roc_list.append(roc)\n",
    "        prn_list.append(prn)\n",
    "\n",
    "    temp_df = pd.DataFrame(time_list).transpose()\n",
    "    temp_df.columns = df_columns\n",
    "    time_df = pd.concat([time_df, temp_df], axis=0)\n",
    "\n",
    "    temp_df = pd.DataFrame(roc_list).transpose()\n",
    "    temp_df.columns = df_columns\n",
    "    roc_df = pd.concat([roc_df, temp_df], axis=0)\n",
    "\n",
    "    temp_df = pd.DataFrame(prn_list).transpose()\n",
    "    temp_df.columns = df_columns\n",
    "    prn_df = pd.concat([prn_df, temp_df], axis=0)"
   ]
  },
  {
   "cell_type": "code",
   "execution_count": 5,
   "metadata": {},
   "outputs": [
    {
     "data": {
      "text/html": [
       "<div>\n",
       "<style scoped>\n",
       "    .dataframe tbody tr th:only-of-type {\n",
       "        vertical-align: middle;\n",
       "    }\n",
       "\n",
       "    .dataframe tbody tr th {\n",
       "        vertical-align: top;\n",
       "    }\n",
       "\n",
       "    .dataframe thead th {\n",
       "        text-align: right;\n",
       "    }\n",
       "</style>\n",
       "<table border=\"1\" class=\"dataframe\">\n",
       "  <thead>\n",
       "    <tr style=\"text-align: right;\">\n",
       "      <th></th>\n",
       "      <th>Data</th>\n",
       "      <th>#Samples</th>\n",
       "      <th># Dimensions</th>\n",
       "      <th>Outlier Perc</th>\n",
       "      <th>ABOD</th>\n",
       "      <th>CBLOF</th>\n",
       "      <th>FB</th>\n",
       "      <th>HBOS</th>\n",
       "      <th>IForest</th>\n",
       "      <th>KNN</th>\n",
       "      <th>LOF</th>\n",
       "      <th>MCD</th>\n",
       "      <th>OCSVM</th>\n",
       "      <th>PCA</th>\n",
       "    </tr>\n",
       "  </thead>\n",
       "  <tbody>\n",
       "    <tr>\n",
       "      <th>0</th>\n",
       "      <td>arrhythmia</td>\n",
       "      <td>452</td>\n",
       "      <td>274</td>\n",
       "      <td>14.6018</td>\n",
       "      <td>0.7687</td>\n",
       "      <td>0.7824</td>\n",
       "      <td>0.7796</td>\n",
       "      <td>0.8511</td>\n",
       "      <td>0.8639</td>\n",
       "      <td>0.782</td>\n",
       "      <td>0.7787</td>\n",
       "      <td>0.8228</td>\n",
       "      <td>0.7986</td>\n",
       "      <td>0.7997</td>\n",
       "    </tr>\n",
       "    <tr>\n",
       "      <th>0</th>\n",
       "      <td>cardio</td>\n",
       "      <td>1831</td>\n",
       "      <td>21</td>\n",
       "      <td>9.6122</td>\n",
       "      <td>0.5892</td>\n",
       "      <td>0.973</td>\n",
       "      <td>0.6385</td>\n",
       "      <td>0.8373</td>\n",
       "      <td>0.9502</td>\n",
       "      <td>0.734</td>\n",
       "      <td>0.588</td>\n",
       "      <td>0.8524</td>\n",
       "      <td>0.9478</td>\n",
       "      <td>0.9616</td>\n",
       "    </tr>\n",
       "    <tr>\n",
       "      <th>0</th>\n",
       "      <td>ionosphere</td>\n",
       "      <td>351</td>\n",
       "      <td>33</td>\n",
       "      <td>35.8974</td>\n",
       "      <td>0.9317</td>\n",
       "      <td>0.8557</td>\n",
       "      <td>0.8855</td>\n",
       "      <td>0.6263</td>\n",
       "      <td>0.877</td>\n",
       "      <td>0.9438</td>\n",
       "      <td>0.8826</td>\n",
       "      <td>0.9534</td>\n",
       "      <td>0.8779</td>\n",
       "      <td>0.8219</td>\n",
       "    </tr>\n",
       "    <tr>\n",
       "      <th>0</th>\n",
       "      <td>mnist</td>\n",
       "      <td>7603</td>\n",
       "      <td>100</td>\n",
       "      <td>9.2069</td>\n",
       "      <td>0.7817</td>\n",
       "      <td>0.8763</td>\n",
       "      <td>0.7402</td>\n",
       "      <td>0.5734</td>\n",
       "      <td>0.8102</td>\n",
       "      <td>0.8431</td>\n",
       "      <td>0.7173</td>\n",
       "      <td>0.8545</td>\n",
       "      <td>0.8375</td>\n",
       "      <td>0.8372</td>\n",
       "    </tr>\n",
       "    <tr>\n",
       "      <th>0</th>\n",
       "      <td>satellite</td>\n",
       "      <td>6435</td>\n",
       "      <td>36</td>\n",
       "      <td>31.6395</td>\n",
       "      <td>0.5913</td>\n",
       "      <td>0.5681</td>\n",
       "      <td>0.5516</td>\n",
       "      <td>0.7508</td>\n",
       "      <td>0.6968</td>\n",
       "      <td>0.6954</td>\n",
       "      <td>0.5551</td>\n",
       "      <td>0.8127</td>\n",
       "      <td>0.6673</td>\n",
       "      <td>0.6073</td>\n",
       "    </tr>\n",
       "  </tbody>\n",
       "</table>\n",
       "</div>"
      ],
      "text/plain": [
       "         Data #Samples # Dimensions Outlier Perc    ABOD   CBLOF      FB  \\\n",
       "0  arrhythmia      452          274      14.6018  0.7687  0.7824  0.7796   \n",
       "0      cardio     1831           21       9.6122  0.5892   0.973  0.6385   \n",
       "0  ionosphere      351           33      35.8974  0.9317  0.8557  0.8855   \n",
       "0       mnist     7603          100       9.2069  0.7817  0.8763  0.7402   \n",
       "0   satellite     6435           36      31.6395  0.5913  0.5681  0.5516   \n",
       "\n",
       "     HBOS IForest     KNN     LOF     MCD   OCSVM     PCA  \n",
       "0  0.8511  0.8639   0.782  0.7787  0.8228  0.7986  0.7997  \n",
       "0  0.8373  0.9502   0.734   0.588  0.8524  0.9478  0.9616  \n",
       "0  0.6263   0.877  0.9438  0.8826  0.9534  0.8779  0.8219  \n",
       "0  0.5734  0.8102  0.8431  0.7173  0.8545  0.8375  0.8372  \n",
       "0  0.7508  0.6968  0.6954  0.5551  0.8127  0.6673  0.6073  "
      ]
     },
     "execution_count": 5,
     "metadata": {},
     "output_type": "execute_result"
    }
   ],
   "source": [
    "roc_df"
   ]
  },
  {
   "cell_type": "code",
   "execution_count": 6,
   "metadata": {},
   "outputs": [],
   "source": [
    "mat_file = 'satellite.mat'\n",
    "mat = loadmat(os.path.join('datasets', mat_file))\n",
    "\n",
    "X = mat['X']\n",
    "y = mat['y'].ravel()\n",
    "outliers_fraction = np.count_nonzero(y) / len(y)\n",
    "outliers_percentage = round(outliers_fraction * 100, ndigits=4)"
   ]
  },
  {
   "cell_type": "code",
   "execution_count": 16,
   "metadata": {},
   "outputs": [],
   "source": [
    "# 75% data for training and 25% for testing. Default values\n",
    "X_train, X_test, y_train, y_test = train_test_split(X, y, test_size=0.25,\n",
    "                                                    random_state=random_state)\n",
    "\n",
    "# standardizing data for processing, mean=0, var=1\n",
    "X_train_norm, X_test_norm = standardizer(X_train, X_test)\n",
    "\n",
    "classifiers = {\n",
    "    'Angle-based Outlier Detector (ABOD)': ABOD(\n",
    "        contamination=outliers_fraction),\n",
    "    'Cluster-based Local Outlier Factor': CBLOF(contamination=outliers_fraction, check_estimator=False,\n",
    "                                                random_state=random_state),\n",
    "    'Feature Bagging': FeatureBagging(contamination=outliers_fraction,\n",
    "                                      random_state=random_state),\n",
    "    'Histogram-base Outlier Detection (HBOS)': HBOS(\n",
    "        contamination=outliers_fraction),\n",
    "    'Isolation Forest': IForest(contamination=outliers_fraction,\n",
    "                                random_state=random_state),\n",
    "    'K Nearest Neighbors (KNN)': KNN(contamination=outliers_fraction),\n",
    "    'Local Outlier Factor (LOF)': LOF(\n",
    "        contamination=outliers_fraction),\n",
    "    'Minimum Covariance Determinant (MCD)': MCD(\n",
    "        contamination=outliers_fraction, random_state=random_state),\n",
    "    'One-class SVM (OCSVM)': OCSVM(contamination=outliers_fraction),\n",
    "    'Principal Component Analysis (PCA)': PCA(\n",
    "        contamination=outliers_fraction, random_state=random_state),\n",
    "}"
   ]
  },
  {
   "cell_type": "code",
   "execution_count": 24,
   "metadata": {},
   "outputs": [
    {
     "name": "stdout",
     "output_type": "stream",
     "text": [
      "Isolation Forest ROC:0.7231, precision @ rank n:0.5717\n"
     ]
    }
   ],
   "source": [
    "# 'Isolation Forest': IForest(contamination=outliers_fraction, random_state=random_state)\n",
    "# 'K Nearest Neighbors (KNN)': KNN(contamination=outliers_fraction)\n",
    "\n",
    "clf_name, clf = ['Isolation Forest',\n",
    "                 IForest(contamination=outliers_fraction, random_state=random_state)]\n",
    "\n",
    "clf.fit(X_train_norm)\n",
    "test_scores = clf.decision_function( X_test_norm)\n",
    "\n",
    "roc = round(roc_auc_score(y_test, test_scores), ndigits=4)\n",
    "prn = round(precision_n_scores(y_test, test_scores), ndigits=4)\n",
    "\n",
    "print('{clf_name} ROC:{roc}, precision @ rank n:{prn}'.format(clf_name=clf_name, roc=roc, prn=prn))"
   ]
  },
  {
   "cell_type": "code",
   "execution_count": 34,
   "metadata": {},
   "outputs": [
    {
     "data": {
      "image/png": "[encoded data removed]",
      "text/plain": [
       "<Figure size 432x288 with 1 Axes>"
      ]
     },
     "metadata": {
      "needs_background": "light"
     },
     "output_type": "display_data"
    },
    {
     "data": {
      "image/png": "[encoded data removed]",
      "text/plain": [
       "<Figure size 432x288 with 1 Axes>"
      ]
     },
     "metadata": {
      "needs_background": "light"
     },
     "output_type": "display_data"
    }
   ],
   "source": [
    "plt.scatter(range(len(y_test)), y_test, label='y_test')\n",
    "# plt.scatter(range(len(test_scores)), test_scores, label='predicted')\n",
    "plt.legend()\n",
    "plt.show()\n",
    "\n",
    "plt.scatter(range(len(test_scores)), test_scores, label='predicted')\n",
    "plt.legend()\n",
    "plt.show()"
   ]
  },
  {
   "cell_type": "code",
   "execution_count": null,
   "metadata": {},
   "outputs": [],
   "source": []
  },
  {
   "cell_type": "code",
   "execution_count": null,
   "metadata": {},
   "outputs": [],
   "source": []
  },
  {
   "cell_type": "code",
   "execution_count": 72,
   "metadata": {},
   "outputs": [
    {
     "name": "stdout",
     "output_type": "stream",
     "text": [
      "\n",
      "On Training Data:\n",
      "KNN ROC:0.9256, precision @ rank n:0.75\n",
      "\n",
      "On Test Data:\n",
      "KNN ROC:0.9844, precision @ rank n:0.8\n"
     ]
    }
   ],
   "source": [
    "from pyod.models.knn import KNN   # kNN detector\n",
    "from pyod.utils.data import evaluate_print, generate_data\n",
    "\n",
    "X_train, y_train, X_test, y_test = generate_data(n_train=200, n_test=100, n_features=2)\n",
    "\n",
    "# train kNN detector\n",
    "clf_name = 'KNN'\n",
    "clf = KNN()\n",
    "clf.fit(X_train)\n",
    "\n",
    "# get the prediction label and outlier scores of the training data\n",
    "y_train_pred = clf.labels_  # binary labels (0: inliers, 1: outliers)\n",
    "y_train_scores = clf.decision_scores_  # raw outlier scores\n",
    "\n",
    "# get the prediction on the test data\n",
    "y_test_pred = clf.predict(X_test)  # outlier labels (0 or 1)\n",
    "y_test_scores = clf.decision_function(X_test)  # outlier scores\n",
    "\n",
    "# evaluate and print the results\n",
    "print(\"\\nOn Training Data:\")\n",
    "evaluate_print(clf_name, y_train, y_train_scores)\n",
    "print(\"\\nOn Test Data:\")\n",
    "evaluate_print(clf_name, y_test, y_test_scores)"
   ]
  },
  {
   "cell_type": "code",
   "execution_count": 73,
   "metadata": {},
   "outputs": [
    {
     "data": {
      "image/png": "[encoded data removed]",
      "text/plain": [
       "<Figure size 864x720 with 4 Axes>"
      ]
     },
     "metadata": {},
     "output_type": "display_data"
    }
   ],
   "source": [
    "from pyod.utils.example import visualize\n",
    "\n",
    "visualize(clf_name, X_train, y_train, X_test, y_test, y_train_pred,\n",
    "          y_test_pred, show_figure=True, save_figure=False)"
   ]
  },
  {
   "cell_type": "code",
   "execution_count": null,
   "metadata": {},
   "outputs": [],
   "source": [
    "X_train_norm, X_test_norm = standardizer(X_train, X_test)"
   ]
  },
  {
   "cell_type": "code",
   "execution_count": 74,
   "metadata": {},
   "outputs": [
    {
     "name": "stdout",
     "output_type": "stream",
     "text": [
      "Isolation Forest ROC:0.9711, precision @ rank n:0.7\n"
     ]
    }
   ],
   "source": [
    "clf_name, clf = ['Isolation Forest',\n",
    "                 IForest(contamination=outliers_fraction, random_state=random_state)]\n",
    "\n",
    "clf.fit(X_train_norm)\n",
    "test_scores = clf.decision_function( X_test_norm)\n",
    "\n",
    "roc = round(roc_auc_score(y_test, test_scores), ndigits=4)\n",
    "prn = round(precision_n_scores(y_test, test_scores), ndigits=4)\n",
    "\n",
    "print('{clf_name} ROC:{roc}, precision @ rank n:{prn}'.format(clf_name=clf_name, roc=roc, prn=prn))"
   ]
  },
  {
   "cell_type": "code",
   "execution_count": null,
   "metadata": {},
   "outputs": [],
   "source": [
    "y_test_pred = clf.predict(X_test_norm)  # outlier labels (0 or 1)"
   ]
  }
 ],
 "metadata": {
  "kernelspec": {
   "display_name": "Python 3",
   "language": "python",
   "name": "python3"
  },
  "language_info": {
   "codemirror_mode": {
    "name": "ipython",
    "version": 3
   },
   "file_extension": ".py",
   "mimetype": "text/x-python",
   "name": "python",
   "nbconvert_exporter": "python",
   "pygments_lexer": "ipython3",
   "version": "3.7.1"
  }
 },
 "nbformat": 4,
 "nbformat_minor": 2
}
